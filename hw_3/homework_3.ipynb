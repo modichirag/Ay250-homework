{
 "cells": [
  {
   "cell_type": "markdown",
   "metadata": {},
   "source": [
    "# Interaction with the World Homework (#3)\n",
    "Python Computing for Data Science (c) J Bloom, UC Berkeley, 2016"
   ]
  },
  {
   "cell_type": "markdown",
   "metadata": {},
   "source": [
    "# 1) Monty: The Python Siri\n",
    "\n",
    "Let's make a Siri-like program with the following properties:\n",
    "   - record your voice command\n",
    "   - use a webservice to parse that sound file into text\n",
    "   - based on what the text, take three different types of actions:\n",
    "       - send an email to yourself\n",
    "       - do some math\n",
    "       - tell a joke\n",
    "\n",
    "So for example, if you say \"Monty: email me with subject hello and body goodbye\", it will email you with the appropriate subject and body. If you say \"Monty: tell me a joke\" then it will go to the web and find a joke and print it for you. If you say, \"Monty: calculate two times three\" it should response with printing the number 6.\n",
    "\n",
    "Hint: you can use speed-to-text apps like Houndify to return the text (but not do the actions). You'll need to sign up for a free API and then follow documentation instructions for using the service within Python. "
   ]
  },
  {
   "cell_type": "code",
   "execution_count": 7,
   "metadata": {
    "collapsed": true
   },
   "outputs": [],
   "source": [
    "#Wanted to do this one, but PyAudio was being stubborn about not detecting input and output stream. Sigh!\n",
    "#I will definitely come back to this later, when I am more time at hand. \n",
    "#Thus, to atleast practice searching web, I decided to get list of frequencies for the next problem"
   ]
  },
  {
   "cell_type": "markdown",
   "metadata": {},
   "source": [
    "# 2) Write a program that identifies musical notes from sound (AIFF) files. \n",
    "\n",
    "  - Run it on the supplied sound files (12) and report your program’s results. \n",
    "  - Use the labeled sounds (4) to make sure it works correctly. The provided sound files contain 1-3 simultaneous notes from different organs.\n",
    "  - Save copies of any example plots to illustrate how your program works.\n",
    "  \n",
    "  https://piazza.com/berkeley/fall2016/ay250/resources -> hw3_sound_files.zip"
   ]
  },
  {
   "cell_type": "markdown",
   "metadata": {},
   "source": [
    "Hints: You’ll want to decompose the sound into a frequency power spectrum. Use a Fast Fourier Transform. Be care about “unpacking” the string hexcode into python data structures. The sound files use 32 bit data. Play around with what happens when you convert the string data to other integer sizes, or signed vs unsigned integers. Also, beware of harmonics."
   ]
  },
  {
   "cell_type": "code",
   "execution_count": 1,
   "metadata": {
    "collapsed": true
   },
   "outputs": [],
   "source": [
    "import numpy\n",
    "import matplotlib.pyplot as plt\n",
    "%matplotlib inline\n",
    "\n",
    "import aifc\n",
    "import array"
   ]
  },
  {
   "cell_type": "code",
   "execution_count": 2,
   "metadata": {
    "collapsed": true
   },
   "outputs": [],
   "source": [
    "### Get list of frequencies from web and store it in array along with their names\n",
    "\n",
    "from urllib.request import urlopen\n",
    "response = urlopen(\"http://www.phy.mtu.edu/~suits/notefreqs.html\")\n",
    "html = response.read()\n",
    "response.close()\n",
    "\n",
    "from bs4 import BeautifulSoup\n",
    "soup = BeautifulSoup(html,\"html5lib\")\n",
    "\n",
    "\n",
    "tr = soup.findAll(\"tr\")\n",
    "nametable = []\n",
    "freqtable = []\n",
    "for foo in tr[2:]:\n",
    "    name = foo.findAll('td')[0].text\n",
    "    if name.find(\"#\") >0:\n",
    "        name = name[1:-1]\n",
    "    nametable.append(name)\n",
    "    freqtable.append(float(foo.findAll('td')[1].text.strip()))\n",
    "    \n",
    "freqtable = numpy.array(freqtable)"
   ]
  },
  {
   "cell_type": "code",
   "execution_count": 3,
   "metadata": {
    "collapsed": false
   },
   "outputs": [],
   "source": [
    "def findpeaks(ar, chunk, h = 2):\n",
    "    '''Find peaks in array (ar) in chuncks of length (chunk) that are higher than the mean in that region by factor\\\n",
    "    of (h)'''\n",
    "    start = chunk\n",
    "    size = len(ar)\n",
    "    peaks = []\n",
    "    while start < size - start:\n",
    "        pos = numpy.where(ar[start: start + chunk] == ar[start: start + chunk].max())[0][0]\n",
    "        if ar[pos + start] > h*ar[start - chunk: start + chunk].mean():\n",
    "            peaks.append(pos + start)\n",
    "        start += chunk\n",
    "    \n",
    "    return numpy.array(peaks)\n",
    "\n",
    "def cancel_harmonics(peakpos):\n",
    "    '''cancel higher harmonics from peaks identified in fourier space'''    \n",
    "    size = peakpos.size\n",
    "    present = []\n",
    "    toskip = []\n",
    "    for foo in range(size //10):\n",
    "        if foo in toskip:\n",
    "            pass\n",
    "        else:\n",
    "            ar = peakpos / peakpos[foo]\n",
    "            harmonics = 1\n",
    "            #See if next 3 harmonics are identified as minima\n",
    "            for boo in range(2, 5):\n",
    "                if abs(peakpos - boo*peakpos[foo]).min() < 0.05*peakpos[foo]:\n",
    "                    pass\n",
    "                else: harmonics = 0 \n",
    "            #If harmonics are identified, set all higher harmonics to 0\n",
    "            if harmonics == 1:\n",
    "                present.append(foo)\n",
    "                for boo in range(2, 20):\n",
    "                    toskip.append(numpy.where(abs(ar - boo) == abs(ar - boo).min())[0][0])\n",
    "\n",
    "    return numpy.array(present)"
   ]
  },
  {
   "cell_type": "code",
   "execution_count": 4,
   "metadata": {
    "collapsed": false
   },
   "outputs": [
    {
     "name": "stdout",
     "output_type": "stream",
     "text": [
      "[439.25000000000006] ['A4']\n",
      "[261.5625, 439.25000000000006] ['C4', 'A4']\n",
      "[174.56250000000003] ['F3']\n",
      "[350.3125] ['F4']\n"
     ]
    }
   ],
   "source": [
    "\n",
    "for files in [\"./hw3_sound_files/sound_files/A4_PopOrgan.aif\",\n",
    "             \"./hw3_sound_files/sound_files/C4+A4_PopOrgan.aif\",\n",
    "             \"./hw3_sound_files/sound_files/F3_PopOrgan.aif\",\n",
    "             \"./hw3_sound_files/sound_files/F4_CathedralOrgan.aif\"]:\n",
    "             \n",
    "    #Read in the files, convert to array and fourier transform them\n",
    "    wf = aifc.open(files)\n",
    "    frames = wf.readframes(wf.getnframes())\n",
    "    framear = numpy.fromstring(frames, dtype=numpy.uint32).byteswap()#Played with different dtypes\n",
    "    framef = abs(numpy.fft.fft(framear))\n",
    "\n",
    "    #Find corresponding frequencies\n",
    "    freq = numpy.fft.fftfreq(framef.size)*wf.getframerate()\n",
    "\n",
    "    #Find peaks in FFT. Played with height and chunk\n",
    "    peakpos = findpeaks(framef, chunk = 2000, h = 3)\n",
    "    present = cancel_harmonics(freq[peakpos])\n",
    "    freqfound = freq[peakpos[present]]\n",
    "\n",
    "    #See if the frequency found is correct, i.e. one of the known frequencies\n",
    "    correctfreq = []\n",
    "    namecorrectfreq = []\n",
    "    tolerance = 1\n",
    "    while len(correctfreq) <= 0:\n",
    "        tolerance += 1\n",
    "        for foo in freqfound:\n",
    "            if abs(freqtable - foo).min() < tolerance:\n",
    "                correctfreq.append(foo)\n",
    "                namecorrectfreq.append(nametable[numpy.where(abs(freqtable - foo) == abs(freqtable - foo).min())[0][0]])\n",
    "    print(correctfreq, namecorrectfreq)\n"
   ]
  },
  {
   "cell_type": "code",
   "execution_count": 5,
   "metadata": {
    "collapsed": false
   },
   "outputs": [
    {
     "name": "stdout",
     "output_type": "stream",
     "text": [
      "[261.5625, 391.25000000000006] ['C4', 'G4']\n",
      "[174.56250000000003] ['F3']\n",
      "[884.00000000000011] ['A5']\n",
      "[261.5625] ['C4']\n",
      "[879.93749999999989] ['A5']\n",
      "[523.0625] ['C5']\n",
      "[587.75] ['D5']\n",
      "[348.5] ['F4']\n",
      "[195.9375] ['G3']\n",
      "[130.75] ['C3']\n",
      "[1319.8125, 1398.1875000000002] ['E6', 'F6']\n",
      "[1765.625] ['A6']\n"
     ]
    }
   ],
   "source": [
    "for i in range(1,13):\n",
    "\n",
    "    #Read in the files, convert to array and fourier transform them\n",
    "    wf = aifc.open(\"./hw3_sound_files/sound_files/%d.aif\"%i)\n",
    "\n",
    "    frames = wf.readframes(wf.getnframes())\n",
    "    framear = numpy.fromstring(frames, dtype=numpy.uint32).byteswap()#Played with different dtypes\n",
    "    framef = abs(numpy.fft.fft(framear))\n",
    "\n",
    "    #Find corresponding frequencies\n",
    "    freq = numpy.fft.fftfreq(framef.size)*wf.getframerate()\n",
    "\n",
    "    #Find peaks in FFT. Played with height and chunk\n",
    "    peakpos = findpeaks(framef, chunk = 2000, h = 3)\n",
    "    present = cancel_harmonics(freq[peakpos])\n",
    "    freqfound = freq[peakpos[present]]\n",
    "\n",
    "    #See if the frequency found is correct, i.e. one of the known frequencies\n",
    "    correctfreq = []\n",
    "    namecorrectfreq = []\n",
    "    tolerance = 1\n",
    "    while len(correctfreq) <= 0:\n",
    "        tolerance += 1\n",
    "        for foo in freqfound:\n",
    "            if abs(freqtable - foo).min() < tolerance:\n",
    "                correctfreq.append(foo)\n",
    "                namecorrectfreq.append(nametable[numpy.where(abs(freqtable - foo) == abs(freqtable - foo).min())[0][0]])\n",
    "    print(correctfreq, namecorrectfreq)\n"
   ]
  }
 ],
 "metadata": {
  "anaconda-cloud": {},
  "kernelspec": {
   "display_name": "Python [Root]",
   "language": "python",
   "name": "Python [Root]"
  },
  "language_info": {
   "codemirror_mode": {
    "name": "ipython",
    "version": 3
   },
   "file_extension": ".py",
   "mimetype": "text/x-python",
   "name": "python",
   "nbconvert_exporter": "python",
   "pygments_lexer": "ipython3",
   "version": "3.5.2"
  }
 },
 "nbformat": 4,
 "nbformat_minor": 0
}
